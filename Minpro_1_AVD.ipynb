{
  "nbformat": 4,
  "nbformat_minor": 0,
  "metadata": {
    "colab": {
      "provenance": []
    },
    "kernelspec": {
      "name": "python3",
      "display_name": "Python 3"
    },
    "language_info": {
      "name": "python"
    }
  },
  "cells": [
    {
      "cell_type": "markdown",
      "source": [
        "# BUSINESS UNDERSTANDING"
      ],
      "metadata": {
        "id": "gH1YFOaJGxnl"
      }
    },
    {
      "cell_type": "markdown",
      "source": [
        "## Business Objective"
      ],
      "metadata": {
        "id": "XHfyuOCbGKr2"
      }
    },
    {
      "cell_type": "markdown",
      "source": [
        "Tujuan Utama proyek ini adalah untuk mengenali dan mengidentifikasi faktor utama yang berkontribusi terhadap tingkat stres. Hal ini meliputi kebiasaan gaya hidup, kesehatan, dan indikator deteksi stres. Selain itu, tujuan proyek ini juga untuk membantu organisasi atau individu dalam mengambil keputusan terkait kesehatan mental maupun fisik melalui pengelolaan tingkat stres agar dapat menjaga atau meningkatkan produktivitas dari organisasi atau individu tersebut."
      ],
      "metadata": {
        "id": "P00WzcLkGkYs"
      }
    },
    {
      "cell_type": "markdown",
      "source": [
        "### Assess Situation"
      ],
      "metadata": {
        "id": "TQoDCctUGOaG"
      }
    },
    {
      "cell_type": "markdown",
      "source": [
        "Situasi bisnis yang mendasari analisis ini adalah karena stres merupakan salah satu faktor utama yang mempengaruhi kesehatan mental dan fisik seseorang. Tingkat stres yang tinggi dapat berdampak negatif pada produktivitas individu bahkan menyebabkan masalah kesehatan serius seperti hipertensi, gangguan tidur atau bahkan depresi."
      ],
      "metadata": {
        "id": "4IqSbLaEGlah"
      }
    },
    {
      "cell_type": "markdown",
      "source": [
        "### Data Mining Goals"
      ],
      "metadata": {
        "id": "OrvETqBDGPwG"
      }
    },
    {
      "cell_type": "markdown",
      "source": [
        "Mengidentifikasi tingkat stres sekumpulan individu dengan mengamati pola dari faktor-faktor utama penyebab stres, serta mengamati hubungan antara variabel yang ada pada data seperti pekerjaan, kondisi kesehatan, dan pola hidup individu dengan tingkat stres individu tersebut."
      ],
      "metadata": {
        "id": "EnV6w_mTGl_s"
      }
    },
    {
      "cell_type": "markdown",
      "source": [
        "## Project Plan"
      ],
      "metadata": {
        "id": "eJXEWRXsGf7s"
      }
    },
    {
      "cell_type": "markdown",
      "source": [
        "Rencana proyek mencakup langkah-langkah yang diperlukan untuk melakukan analisis data, seperti\n",
        "1. Pengumpulan data\n",
        "2. Preprocessing atau persiapan data\n",
        "3. Analisis data\n",
        "4. Pengembangan model prediktif\n",
        "5. Membuat laporan berupa kesimpulan dan saran\n",
        "\n",
        "Rencana proyek ini akan memastikan bahwa proyek menghasilkan hasil yang relevan dan bermanfaat bagi organisasi atau individu dalam mengontrol tingkat stres"
      ],
      "metadata": {
        "id": "vRLUbLCQGotn"
      }
    }
  ]
}